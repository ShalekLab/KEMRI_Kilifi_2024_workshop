{
  "nbformat": 4,
  "nbformat_minor": 0,
  "metadata": {
    "colab": {
      "provenance": []
    },
    "kernelspec": {
      "name": "ir",
      "display_name": "R"
    },
    "language_info": {
      "name": "R"
    }
  },
  "cells": [
    {
      "cell_type": "markdown",
      "source": [
        "KEMRI single-cell genomics workshop - September 2024\n",
        "\n",
        "In this project you will be analyzing data from a monkey model of ebola infection.\n",
        "\n",
        "The paper is \"Single-Cell Profiling of Ebola Virus Disease In Vivo Reveals Viral and Host Dynamics\"\n",
        "(https://www.cell.com/cell/fulltext/S0092-8674(20)31308-8)\n",
        "\n",
        "The questions include:\n",
        "- What is the quality of the cells? Do you need to filter cells?\n",
        "- Is there any batch effect between monkeys?\n",
        "- What are the main cell types present in the sample?\n",
        "- Where can we detect ebola transcripts?\n",
        "- Do you see any differences between timepoints?"
      ],
      "metadata": {
        "id": "vQuHm55VSycR"
      }
    },
    {
      "cell_type": "code",
      "execution_count": null,
      "metadata": {
        "collapsed": true,
        "id": "Y3Fv8uNUSUPQ"
      },
      "outputs": [],
      "source": [
        "# Start with section to define shell call function and install packages\n",
        "shell_call <- function(command, ...) {\n",
        "  result <- system(command, intern = TRUE, ...)\n",
        "  cat(paste0(result, collapse = \"\\n\"))\n",
        "}\n",
        "\n",
        "loadPackages = function(pkgs){\n",
        "  myrequire = function(...){\n",
        "    suppressWarnings(suppressMessages(suppressPackageStartupMessages(require(...))))\n",
        "  }\n",
        "  ok = sapply(pkgs, require, character.only=TRUE, quietly=TRUE)\n",
        "  if (!all(ok)){\n",
        "    message(\"There are missing packages: \", paste(pkgs[!ok], collapse=\", \"))\n",
        "  }\n",
        "}\n",
        "\n",
        "## Setup R2U\n",
        "download.file(\"https://github.com/eddelbuettel/r2u/raw/master/inst/scripts/add_cranapt_jammy.sh\",\n",
        "              \"add_cranapt_jammy.sh\")\n",
        "Sys.chmod(\"add_cranapt_jammy.sh\", \"0755\")\n",
        "shell_call(\"./add_cranapt_jammy.sh\")\n",
        "bspm::enable()\n",
        "options(bspm.version.check=FALSE)\n",
        "shell_call(\"rm add_cranapt_jammy.sh\")"
      ]
    },
    {
      "cell_type": "code",
      "source": [
        "## Install and load Seurat\n",
        "install.packages('Seurat')\n",
        "library(Seurat)"
      ],
      "metadata": {
        "collapsed": true,
        "id": "8AHKOkFmXjWz"
      },
      "execution_count": null,
      "outputs": []
    },
    {
      "cell_type": "code",
      "source": [
        "# Download counts data and metadata\n",
        "shell_call(\"wget -q --output-document counts.csv.gz https://www.dropbox.com/scl/fi/s8vr5pab2vzfqzwsbwywu/counts.csv.gz?rlkey=0dkg0abzumzxt8q8ce2ndf9r3&dl=0\")\n",
        "shell_call(\"wget -q --output-document metadata.csv https://www.dropbox.com/scl/fi/vre2dr5dpbc7v4kzlbzum/metadata.csv?rlkey=msph88xn2w7zmz2zzdk53rk32&dl=0\")"
      ],
      "metadata": {
        "id": "Nw2l1oBuS7_B"
      },
      "execution_count": null,
      "outputs": []
    },
    {
      "cell_type": "code",
      "source": [
        "##Now lets load the data\n",
        "matrix <- read.csv2(file = \"counts.csv.gz\",sep = \",\",row.names = 1)\n",
        "matrix[1:5,1:5]\n",
        "metadata <- read.csv2(file = \"metadata.csv\",sep = \",\",row.names = 1,header = T)\n",
        "head(metadata)"
      ],
      "metadata": {
        "id": "x1RY_3cga_38"
      },
      "execution_count": null,
      "outputs": []
    },
    {
      "cell_type": "code",
      "source": [
        "##Lets create the seurat object\n",
        "seuratObject <- CreateSeuratObject(counts = matrix[,rownames(metadata) %in% colnames(matrix)], meta.data = metadata[rownames(metadata) %in% colnames(matrix),], project = \"Project4\")\n",
        "seuratObject"
      ],
      "metadata": {
        "id": "2N2bFsrsbCnH"
      },
      "execution_count": null,
      "outputs": []
    },
    {
      "cell_type": "code",
      "source": [
        "# Note mitochondrial genes in monkey\n",
        "mito.genes<-rownames(seuratObject)[rownames(seuratObject) %in% c('ENSMMUG00000028704','ENSMMUG00000028703','ENSMMUG00000028702','ENSMMUG00000028701','ENSMMUG00000028700','ND1',\n",
        "  'ENSMMUG00000028698','ENSMMUG00000028697','ENSMMUG00000028696','ND2','ENSMMUG00000028694','ENSMMUG00000028693','ENSMMUG00000028692','ENSMMUG00000028691',\n",
        "  'ENSMMUG00000028690','COX1','ENSMMUG00000028688','ENSMMUG00000028687','COX2','ENSMMUG00000028685','ATP8','ATP6','COX3','ENSMMUG00000028681','ND3','ENSMMUG00000028679','ND4L',\n",
        "  'ND4','ENSMMUG00000028676','ENSMMUG00000028675','ENSMMUG00000028674','ND5','ND6','ENSMMUG00000028671','CYTB','ENSMMUG00000028669','ENSMMUG00000028668')]"
      ],
      "metadata": {
        "id": "hN7lTBdVfODP"
      },
      "execution_count": null,
      "outputs": []
    },
    {
      "cell_type": "code",
      "source": [
        "seuratObject[[\"percent.mt\"]] <- PercentageFeatureSet(seuratObject, features = mito.genes)"
      ],
      "metadata": {
        "id": "E00oEQmwfW0T"
      },
      "execution_count": null,
      "outputs": []
    },
    {
      "cell_type": "code",
      "source": [
        "##How many cells do we have in each monkey? in each condition days post infection (DPI)?"
      ],
      "metadata": {
        "id": "t_gxmehpbHTn"
      },
      "execution_count": null,
      "outputs": []
    },
    {
      "cell_type": "code",
      "source": [
        "## Lets do QC -  Use the practical from the previous days and\n",
        "#check the seurat tutorial! https://satijalab.org/seurat/articles/pbmc3k_tutorial.html"
      ],
      "metadata": {
        "id": "uWTzaMRkbHyJ"
      },
      "execution_count": null,
      "outputs": []
    },
    {
      "cell_type": "code",
      "source": [
        "## Once We QC and filter lets do normalization, scaling , PCA, clustering and umap"
      ],
      "metadata": {
        "id": "cSLLvPL1bKRH"
      },
      "execution_count": null,
      "outputs": []
    },
    {
      "cell_type": "code",
      "source": [
        "## Identify Clusters! Hint: Check for  immunes cells and intestinal cells for example B cells,\n",
        "#Dendritic Cells, Epithelial cells, Erythrocites, Macrophages,\n",
        "#Hematopoietic stem progenitor cell, Monocytes , Neutrophils , NK Cells and T Cells\n",
        "#Use websites like https://singlecell.broadinstitute.org/single_cell and\n",
        "#https://panglaodb.se/ (if cant connect use an online proxy) as well a protein tissue atlas"
      ],
      "metadata": {
        "id": "ESxnaXKUbL5B"
      },
      "execution_count": null,
      "outputs": []
    },
    {
      "cell_type": "code",
      "source": [
        "## How many cell do we have in every condition and sample? Is there any batch effect? Do we need to integrate?\n",
        "#Tip use the practicals and the seurat tutorial https://satijalab.org/seurat/articles/integration_introduction.html"
      ],
      "metadata": {
        "id": "jX1llxV0bSiU"
      },
      "execution_count": null,
      "outputs": []
    },
    {
      "cell_type": "code",
      "source": [
        "## How how many cells per cluster/Cell type"
      ],
      "metadata": {
        "id": "GEQnKPlFbT_W"
      },
      "execution_count": null,
      "outputs": []
    },
    {
      "cell_type": "code",
      "source": [
        "## Where can you identify infected cells, check the ebola genes\n",
        "## \"EBOV-GENOME\" \"EBOV-GP\"     \"EBOV-L\"      \"EBOV-NP\"     \"EBOV-VP24\"   \"EBOV-VP30\"   \"EBOV-VP35\"   \"EBOV-VP40\""
      ],
      "metadata": {
        "id": "ym8Yef8mfg7J"
      },
      "execution_count": null,
      "outputs": []
    },
    {
      "cell_type": "code",
      "source": [
        "## How do cytokines and ISGs change across time\n",
        "##Check genes like \"STAT1\", \"ISG15, \"MX1\" among others!"
      ],
      "metadata": {
        "id": "ZMBrTriFfiuJ"
      },
      "execution_count": null,
      "outputs": []
    }
  ]
}