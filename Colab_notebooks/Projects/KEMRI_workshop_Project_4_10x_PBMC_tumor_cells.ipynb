{
  "nbformat": 4,
  "nbformat_minor": 0,
  "metadata": {
    "colab": {
      "provenance": []
    },
    "kernelspec": {
      "name": "ir",
      "display_name": "R"
    },
    "language_info": {
      "name": "R"
    }
  },
  "cells": [
    {
      "cell_type": "markdown",
      "source": [
        "KEMRI Workshop on single-cell genomics - September 2024\n",
        "\n",
        "Project on PBMC and tumor cells with TCR analysis\n",
        "\n",
        "data from 10x\n",
        "\n",
        "Healthy PBMCs\n",
        "https://www.10xgenomics.com/datasets/human-pbmc-from-a-healthy-donor-10-k-cells-multi-v-2-2-standard-5-0-0\n",
        "\n",
        "\n",
        "NSCLC tumor\n",
        "https://www.10xgenomics.com/datasets/nsclc-tumor-1-standard-5-0-0\n",
        "\n",
        "Melanoma tumor\n",
        "https://www.10xgenomics.com/datasets/melanoma-tumor-derived-cells-v-1-1-2-standard-4-0-0\n",
        "\n",
        "\n",
        "Questions include:\n",
        "- What types of cells do you observe in each tissue?\n",
        "- Are T cell states similar in PBMCs and tumors? Different in each tumor type?\n",
        "- What are the features of TCRs in PBMC compared to tumors?\n",
        "- Are there any shared TCR clones across samples?\n",
        "- What are the TCR features and gene expression states of expanded TCR clones?"
      ],
      "metadata": {
        "id": "sRq7yTScGT11"
      }
    },
    {
      "cell_type": "code",
      "execution_count": null,
      "metadata": {
        "id": "ynA-x53lGJzF",
        "collapsed": true
      },
      "outputs": [],
      "source": [
        "# Start with section to define shell call function and install packages\n",
        "shell_call <- function(command, ...) {\n",
        "  result <- system(command, intern = TRUE, ...)\n",
        "  cat(paste0(result, collapse = \"\\n\"))\n",
        "}\n",
        "\n",
        "loadPackages = function(pkgs){\n",
        "  myrequire = function(...){\n",
        "    suppressWarnings(suppressMessages(suppressPackageStartupMessages(require(...))))\n",
        "  }\n",
        "  ok = sapply(pkgs, require, character.only=TRUE, quietly=TRUE)\n",
        "  if (!all(ok)){\n",
        "    message(\"There are missing packages: \", paste(pkgs[!ok], collapse=\", \"))\n",
        "  }\n",
        "}\n",
        "\n",
        "## Setup R2U\n",
        "download.file(\"https://github.com/eddelbuettel/r2u/raw/master/inst/scripts/add_cranapt_jammy.sh\",\n",
        "              \"add_cranapt_jammy.sh\")\n",
        "Sys.chmod(\"add_cranapt_jammy.sh\", \"0755\")\n",
        "shell_call(\"./add_cranapt_jammy.sh\")\n",
        "bspm::enable()\n",
        "options(bspm.version.check=FALSE)\n",
        "shell_call(\"rm add_cranapt_jammy.sh\")"
      ]
    },
    {
      "cell_type": "code",
      "source": [
        "## Install the R packages\n",
        "cranPkgs2Install = c(\"BiocManager\")\n",
        "install.packages(cranPkgs2Install, ask=FALSE, update=TRUE, quietly=TRUE)\n",
        "system(\"sudo apt install libgsl-dev\")\n",
        "BiocManager::install(\"scRepertoire\")\n",
        "install.packages('Seurat')"
      ],
      "metadata": {
        "id": "pPBLxrH3HSUx"
      },
      "execution_count": null,
      "outputs": []
    },
    {
      "cell_type": "code",
      "source": [
        "# Download a Seurat object containing the gene expression data and metadata for pre- and post-vaccination B cells\n",
        "shell_call(\"wget -q --output-document 10x_pbmc_tumor_cells.Rds https://www.dropbox.com/scl/fi/pgdeeupit65139qj4l382/10x_pbmc_tumor_cells.Rds?rlkey=fvnrntlz6082w4pmud8ayd5ve&dl=0\")"
      ],
      "metadata": {
        "id": "QF-HXtrkHWVz"
      },
      "execution_count": null,
      "outputs": []
    },
    {
      "cell_type": "code",
      "source": [
        "# Download the corresponding TCR contigs\n",
        "shell_call(\"wget -q --output-document sc5p_v2_hs_PBMC_10k_multi_5gex_5fb_b_t_vdj_t_filtered_contig_annotations.csv https://cf.10xgenomics.com/samples/cell-vdj/5.0.0/sc5p_v2_hs_PBMC_10k_multi_5gex_5fb_b_t/sc5p_v2_hs_PBMC_10k_multi_5gex_5fb_b_t_vdj_t_filtered_contig_annotations.csv\")\n",
        "shell_call(\"wget -q --output-document vdj_v1_hs_nsclc_multi_5gex_t_b_vdj_t_filtered_contig_annotations.csv https://cf.10xgenomics.com/samples/cell-vdj/5.0.0/vdj_v1_hs_nsclc_multi_5gex_t_b/vdj_v1_hs_nsclc_multi_5gex_t_b_vdj_t_filtered_contig_annotations.csv\")\n",
        "shell_call(\"wget -q --output-document sc5p_v1p1_hs_melanoma_10k_t_filtered_contig_annotations.csv https://cf.10xgenomics.com/samples/cell-vdj/4.0.0/sc5p_v1p1_hs_melanoma_10k/sc5p_v1p1_hs_melanoma_10k_t_filtered_contig_annotations.csv\")\n",
        "shell_call(\"ls\")"
      ],
      "metadata": {
        "id": "N3RSN28xPu3d"
      },
      "execution_count": null,
      "outputs": []
    },
    {
      "cell_type": "code",
      "source": [
        "# Load in Seurat object and begin exploring it\n",
        "library(Seurat)\n",
        "cells = readRDS(\"10x_pbmc_tumor_cells.Rds\")"
      ],
      "metadata": {
        "id": "iOYo_pkyH65Q"
      },
      "execution_count": null,
      "outputs": []
    },
    {
      "cell_type": "code",
      "source": [
        "# Explore the Seurat object and make sure it has the expected number of features and samples\n",
        "head(colnames(cells))\n",
        "cells"
      ],
      "metadata": {
        "id": "n68ff9XLUJwV"
      },
      "execution_count": null,
      "outputs": []
    },
    {
      "cell_type": "code",
      "source": [
        "# Join layers (one layer was generated for each object)\n",
        "cells[[\"RNA\"]] <- JoinLayers(cells[[\"RNA\"]])\n",
        "cells"
      ],
      "metadata": {
        "id": "MGbL5pQ1a9HN"
      },
      "execution_count": null,
      "outputs": []
    },
    {
      "cell_type": "code",
      "source": [
        "# Read in the TCR contigs\n",
        "tcr1 = read.table(\"sc5p_v2_hs_PBMC_10k_multi_5gex_5fb_b_t_vdj_t_filtered_contig_annotations.csv\",sep=\",\",header=T)\n",
        "tcr2 = read.table(\"vdj_v1_hs_nsclc_multi_5gex_t_b_vdj_t_filtered_contig_annotations.csv\",sep=\",\",header=T)\n",
        "tcr3 = read.table(\"sc5p_v1p1_hs_melanoma_10k_t_filtered_contig_annotations.csv\",sep=\",\",header=T)"
      ],
      "metadata": {
        "id": "m_oEaa69IB98"
      },
      "execution_count": null,
      "outputs": []
    },
    {
      "cell_type": "code",
      "source": [
        "# Modify cell names in BCR contigs file to match Seurat object cell names\n",
        "# We will edit the barcode names in the VDJ table to match the Seurat object\n",
        "tcr1$barcode = paste(\"S1_\",tcr1$barcode,sep=\"\")\n",
        "tcr2$barcode = paste(\"S2_\",tcr2$barcode,sep=\"\")\n",
        "tcr3$barcode = paste(\"S3_\",tcr3$barcode,sep=\"\")"
      ],
      "metadata": {
        "id": "PliRhQdMgVCX"
      },
      "execution_count": null,
      "outputs": []
    },
    {
      "cell_type": "code",
      "source": [
        "# Merge the files into one file that we will use as input to scRepertoire\n",
        "contig.list <- list(tcr1, tcr2, tcr3)"
      ],
      "metadata": {
        "id": "40C1BvH_VNwx"
      },
      "execution_count": null,
      "outputs": []
    },
    {
      "cell_type": "code",
      "source": [
        "# Load scRepertoire\n",
        "library(scRepertoire)"
      ],
      "metadata": {
        "id": "SAMk5n3FZQqA"
      },
      "execution_count": null,
      "outputs": []
    },
    {
      "cell_type": "code",
      "source": [
        "# One more issue - we have to make sure the cell barcodes are the same in the VDJ table and the Seurat object\n",
        "# Check the barcode names in the Seurat object\n",
        "head(colnames(cells))\n",
        "tail(colnames(cells))"
      ],
      "metadata": {
        "id": "SD9kN88Xjdyg"
      },
      "execution_count": null,
      "outputs": []
    },
    {
      "cell_type": "code",
      "source": [
        "# Check the barcode names in the contig list\n",
        "head(contig.list[[1]]$barcode)\n",
        "head(contig.list[[2]]$barcode)\n",
        "head(contig.list[[3]]$barcode)"
      ],
      "metadata": {
        "id": "03dthvb8jh9L"
      },
      "execution_count": null,
      "outputs": []
    },
    {
      "cell_type": "code",
      "source": [
        "# Now we have matching names between the Seurat object and the BCR VDJ contigs\n",
        "# One last problem is that we have too many cells to analyze in Google colab. 25 thousand is a lot, so we will sample down to 5 thousand to speed up our analyses.\n",
        "# We have to be careful to sample the same cells from the Seurat object and the contigs file.\n",
        "cell_sample_ids = sample(colnames(cells),5000,replace=F)\n",
        "cells@meta.data$CellName = colnames(cells)\n",
        "cells = subset(cells, subset = CellName %in% cell_sample_ids)"
      ],
      "metadata": {
        "id": "WRIUwQJNnbhr"
      },
      "execution_count": null,
      "outputs": []
    },
    {
      "cell_type": "code",
      "source": [
        "# Sample the contig list to a the cells we sampled for the Seurat object\n",
        "contig.list[[1]] = contig.list[[1]][contig.list[[1]]$barcode %in% cell_sample_ids,]\n",
        "contig.list[[2]] = contig.list[[2]][contig.list[[2]]$barcode %in% cell_sample_ids,]\n",
        "contig.list[[3]] = contig.list[[3]][contig.list[[3]]$barcode %in% cell_sample_ids,]"
      ],
      "metadata": {
        "id": "ULfEG2pItdxu"
      },
      "execution_count": null,
      "outputs": []
    },
    {
      "cell_type": "code",
      "source": [
        "# Finally we can run combineBCR to make cell annotations and call clones\n",
        "combined.TCR <- combineTCR(contig.list, samples = c(\"S1\",\"S2\",\"S3\"))"
      ],
      "metadata": {
        "id": "6dHSF1h_kKZU"
      },
      "execution_count": null,
      "outputs": []
    },
    {
      "cell_type": "code",
      "source": [
        "# We have to clean up these barcode names after the combineBCR funtion added an extra \"S1_\" or \"S2_\" to each name\n",
        "combined.TCR$S1$barcode = sub(\"S1_S1\",\"S1\",combined.TCR$S1$barcode)\n",
        "combined.TCR$S2$barcode = sub(\"S2_S2\",\"S2\",combined.TCR$S2$barcode)\n",
        "combined.TCR$S3$barcode = sub(\"S3_S3\",\"S3\",combined.TCR$S3$barcode)"
      ],
      "metadata": {
        "id": "2drl6d0fkTy_"
      },
      "execution_count": null,
      "outputs": []
    },
    {
      "cell_type": "code",
      "source": [
        "# Now we can integrate the gene expression in the Seurat object with the BCR calls\n",
        "cells = combineExpression(combined.TCR,cells,cloneCall=\"gene\")"
      ],
      "metadata": {
        "id": "I8aaQERGkCMh"
      },
      "execution_count": null,
      "outputs": []
    },
    {
      "cell_type": "code",
      "source": [
        "# Check the object identities\n",
        "Idents(object = cells) <- \"tissue\"\n",
        "table(Idents(cells))"
      ],
      "metadata": {
        "id": "WsCsFQnkXR1P"
      },
      "execution_count": null,
      "outputs": []
    },
    {
      "cell_type": "markdown",
      "source": [
        "From this point please continue to process the data if necessary and perform analysis to answer the questions described at the top of the notebook. Good luck!"
      ],
      "metadata": {
        "id": "MbP2OsCTv5r4"
      }
    }
  ]
}