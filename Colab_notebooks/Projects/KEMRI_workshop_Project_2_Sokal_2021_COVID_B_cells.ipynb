{
  "nbformat": 4,
  "nbformat_minor": 0,
  "metadata": {
    "colab": {
      "provenance": []
    },
    "kernelspec": {
      "name": "ir",
      "display_name": "R"
    },
    "language_info": {
      "name": "R"
    }
  },
  "cells": [
    {
      "cell_type": "markdown",
      "source": [
        "KEMRI single-cell genomics workshop - September 2024\n",
        "\n",
        "In this project you will be analyzing B cells from patients who have recovered from SARS-CoV2 infection. The data was generated using the 10x genomics platform.\n",
        "\n",
        "The paper is \"Maturation and persistence of the anti-SARS-CoV-2 memory B cell response\"\n",
        "\n",
        "\n",
        "(https://www.cell.com/cell/fulltext/S0092-8674(21)00093-3)\n",
        "\n",
        "Questions include:\n",
        "- What types of B cells do you observe?\n",
        "- Are B cell states similar between individuals?\n",
        "- Do B cell states change in late vs. early response to infection?\n",
        "- What are the features of BCRs in late vs early response?\n",
        "- Are there any shared BCR clones across individuals?\n",
        "- What are the BCR features and gene expression states of expanded BCR clones?"
      ],
      "metadata": {
        "id": "sRq7yTScGT11"
      }
    },
    {
      "cell_type": "code",
      "execution_count": null,
      "metadata": {
        "id": "ynA-x53lGJzF",
        "collapsed": true
      },
      "outputs": [],
      "source": [
        "# Start with section to define shell call function and install packages\n",
        "shell_call <- function(command, ...) {\n",
        "  result <- system(command, intern = TRUE, ...)\n",
        "  cat(paste0(result, collapse = \"\\n\"))\n",
        "}\n",
        "\n",
        "loadPackages = function(pkgs){\n",
        "  myrequire = function(...){\n",
        "    suppressWarnings(suppressMessages(suppressPackageStartupMessages(require(...))))\n",
        "  }\n",
        "  ok = sapply(pkgs, require, character.only=TRUE, quietly=TRUE)\n",
        "  if (!all(ok)){\n",
        "    message(\"There are missing packages: \", paste(pkgs[!ok], collapse=\", \"))\n",
        "  }\n",
        "}\n",
        "\n",
        "## Setup R2U\n",
        "download.file(\"https://github.com/eddelbuettel/r2u/raw/master/inst/scripts/add_cranapt_jammy.sh\",\n",
        "              \"add_cranapt_jammy.sh\")\n",
        "Sys.chmod(\"add_cranapt_jammy.sh\", \"0755\")\n",
        "shell_call(\"./add_cranapt_jammy.sh\")\n",
        "bspm::enable()\n",
        "options(bspm.version.check=FALSE)\n",
        "shell_call(\"rm add_cranapt_jammy.sh\")"
      ]
    },
    {
      "cell_type": "code",
      "source": [
        "## Install the R packages\n",
        "cranPkgs2Install = c(\"BiocManager\")\n",
        "install.packages(cranPkgs2Install, ask=FALSE, update=TRUE, quietly=TRUE)\n",
        "system(\"sudo apt install libgsl-dev\")\n",
        "BiocManager::install(\"scRepertoire\")\n",
        "install.packages('Seurat')"
      ],
      "metadata": {
        "id": "pPBLxrH3HSUx"
      },
      "execution_count": null,
      "outputs": []
    },
    {
      "cell_type": "code",
      "source": [
        "# Download a Seurat object containing the gene expression data and metadata for two individuals (at two time points) from the paper\n",
        "shell_call(\"wget -q --output-document Sokal21_Bcells.Rds https://www.dropbox.com/scl/fi/swv5419nijrsyx2ivmjnw/Sokal21_Bcells.Rds?rlkey=deb763oh199j3mclspfbgdvqw&dl=0\")"
      ],
      "metadata": {
        "id": "QF-HXtrkHWVz"
      },
      "execution_count": null,
      "outputs": []
    },
    {
      "cell_type": "code",
      "source": [
        "# Download the corresponding BCR contigs. Note that heavy chain (HC) and light chain (LC) are in separate files that we will merge later.\n",
        "shell_call(\"wget -q --output-document S-CoV1_M0_Sort1_B_VDJ_HC_filtered.tsv.gz https://www.dropbox.com/scl/fi/owo1v2ua034s6s6rb046v/S-CoV1_M0_Sort1_B_VDJ_HC_filtered.tsv.gz?rlkey=l9ivl9k6q5bykgy8b9sdfnvo5&dl=0\")\n",
        "shell_call(\"wget -q --output-document S-CoV1_M0_Sort1_B_VDJ_LC_filtered.tsv.gz https://www.dropbox.com/scl/fi/u8wcn4ueu2xia3q5qoiab/S-CoV1_M0_Sort1_B_VDJ_LC_filtered.tsv.gz?rlkey=a3k028qfp6zznpvflcr6i7pyg&dl=0\")\n",
        "\n",
        "shell_call(\"wget -q --output-document S-CoV1_M6_Sort1_B_VDJ_HC_filtered.tsv.gz https://www.dropbox.com/scl/fi/ldsh5rml9o8dckja5le2c/S-CoV1_M6_Sort1_B_VDJ_HC_filtered.tsv.gz?rlkey=ul9cxksligcxbs3p1yv27sbe0&dl=0\")\n",
        "shell_call(\"wget -q --output-document S-CoV1_M6_Sort1_B_VDJ_LC_filtered.tsv.gz https://www.dropbox.com/scl/fi/x0c87vhriyi71tuqjmj2k/S-CoV1_M6_Sort1_B_VDJ_LC_filtered.tsv.gz?rlkey=0fuoesu6isnqhbzu5pcfh1v82&dl=0\")\n",
        "\n",
        "shell_call(\"wget -q --output-document S-CoV13_M0_Sort1_B_VDJ_HC_filtered.tsv.gz https://www.dropbox.com/scl/fi/y0e136iqbs2hr49eekwc0/S-CoV13_M0_Sort1_B_VDJ_HC_filtered.tsv.gz?rlkey=9an8qs67aqkmlqrnxabpcolyn&dl=0\")\n",
        "shell_call(\"wget -q --output-document S-CoV13_M0_Sort1_B_VDJ_LC_filtered.tsv.gz https://www.dropbox.com/scl/fi/1ibcepgrc2hswww3krzww/S-CoV13_M0_Sort1_B_VDJ_LC_filtered.tsv.gz?rlkey=5ukvzz74q4qgt2kv0cy3d8tvx&dl=0\")\n",
        "\n",
        "shell_call(\"wget -q --output-document S-CoV13_M6_Sort1_B_VDJ_HC_filtered.tsv.gz https://www.dropbox.com/scl/fi/xigcdobssfj4tcn05zc4o/S-CoV13_M6_Sort1_B_VDJ_HC_filtered.tsv.gz?rlkey=q3gikng60kmwr7udyl144xtjz&dl=0\")\n",
        "shell_call(\"wget -q --output-document S-CoV13_M6_Sort1_B_VDJ_LC_filtered.tsv.gz https://www.dropbox.com/scl/fi/5zn4xz26hgrvx5zg64tzw/S-CoV13_M6_Sort1_B_VDJ_LC_filtered.tsv.gz?rlkey=sgq7acfuyeqb7tbmyg7rr3on1&dl=0\")\n"
      ],
      "metadata": {
        "id": "N3RSN28xPu3d"
      },
      "execution_count": null,
      "outputs": []
    },
    {
      "cell_type": "code",
      "source": [
        "# Load in Seurat object and begin exploring it\n",
        "library(Seurat)\n",
        "bcells = readRDS(\"Sokal21_Bcells.Rds\")"
      ],
      "metadata": {
        "id": "iOYo_pkyH65Q"
      },
      "execution_count": null,
      "outputs": []
    },
    {
      "cell_type": "code",
      "source": [
        "# Explore the Seurat object and make sure it has the expected number of features and samples\n",
        "head(colnames(bcells))"
      ],
      "metadata": {
        "id": "n68ff9XLUJwV"
      },
      "execution_count": null,
      "outputs": []
    },
    {
      "cell_type": "code",
      "source": [
        "# Read in the BCR contigs\n",
        "bcr_hc1 = read.table(\"S-CoV1_M0_Sort1_B_VDJ_HC_filtered.tsv.gz\",sep=\"\\t\",header=T)\n",
        "bcr_lc1 = read.table(\"S-CoV1_M0_Sort1_B_VDJ_LC_filtered.tsv.gz\",sep=\"\\t\",header=T)\n",
        "bcr_hc2 = read.table(\"S-CoV1_M6_Sort1_B_VDJ_HC_filtered.tsv.gz\",sep=\"\\t\",header=T)\n",
        "bcr_lc2 = read.table(\"S-CoV1_M6_Sort1_B_VDJ_LC_filtered.tsv.gz\",sep=\"\\t\",header=T)\n",
        "bcr_hc3 = read.table(\"S-CoV13_M0_Sort1_B_VDJ_HC_filtered.tsv.gz\",sep=\"\\t\",header=T)\n",
        "bcr_lc3 = read.table(\"S-CoV13_M0_Sort1_B_VDJ_LC_filtered.tsv.gz\",sep=\"\\t\",header=T)\n",
        "bcr_hc4 = read.table(\"S-CoV13_M6_Sort1_B_VDJ_HC_filtered.tsv.gz\",sep=\"\\t\",header=T)\n",
        "bcr_lc4 = read.table(\"S-CoV13_M6_Sort1_B_VDJ_LC_filtered.tsv.gz\",sep=\"\\t\",header=T)"
      ],
      "metadata": {
        "id": "m_oEaa69IB98"
      },
      "execution_count": null,
      "outputs": []
    },
    {
      "cell_type": "code",
      "source": [
        "# Merge the files into one file that we will use as input to scRepertoire\n",
        "bcr_vdj_all = rbind(bcr_hc1,bcr_lc1,bcr_hc2,bcr_lc2,bcr_hc3,bcr_lc3,bcr_hc4,bcr_lc4)"
      ],
      "metadata": {
        "id": "40C1BvH_VNwx"
      },
      "execution_count": null,
      "outputs": []
    },
    {
      "cell_type": "code",
      "source": [
        "# Load scRepertoire and make the contig list\n",
        "library(scRepertoire)\n",
        "contig.list <- loadContigs(bcr_vdj_all, format = \"AIRR\")"
      ],
      "metadata": {
        "id": "SAMk5n3FZQqA"
      },
      "execution_count": null,
      "outputs": []
    },
    {
      "cell_type": "code",
      "source": [
        "# One more issue - we have to make sure the cell barcodes are the same in the VDJ table and the Seurat object\n",
        "# Check the barcode names in the Seurat object\n",
        "head(colnames(bcells))"
      ],
      "metadata": {
        "id": "SD9kN88Xjdyg"
      },
      "execution_count": null,
      "outputs": []
    },
    {
      "cell_type": "code",
      "source": [
        "# Check the barcode names in the contig list\n",
        "head(contig.list[[1]]$barcode)"
      ],
      "metadata": {
        "id": "03dthvb8jh9L"
      },
      "execution_count": null,
      "outputs": []
    },
    {
      "cell_type": "code",
      "source": [
        "# We will edit the barcode names in the VDJ table to match the Seurat object\n",
        "contig.list[[1]]$barcode = gsub(\"S-CoV1_M0_Sort1\",\"S1\",contig.list[[1]]$barcode)\n",
        "contig.list[[1]]$barcode = gsub(\"S-CoV1_M6_Sort1\",\"S2\",contig.list[[1]]$barcode)\n",
        "contig.list[[1]]$barcode = gsub(\"S-CoV13_M0_Sort1\",\"S3\",contig.list[[1]]$barcode)\n",
        "contig.list[[1]]$barcode = gsub(\"S-CoV13_M6_Sort1\",\"S4\",contig.list[[1]]$barcode)"
      ],
      "metadata": {
        "id": "kfBYcQHLjait"
      },
      "execution_count": null,
      "outputs": []
    },
    {
      "cell_type": "code",
      "source": [
        "# Check the barcode names in the contig list again (they should be changed to look like the barcode names in the Seurat object)\n",
        "head(contig.list[[1]]$barcode,n=100)"
      ],
      "metadata": {
        "id": "xuPxVIX0j1xC"
      },
      "execution_count": null,
      "outputs": []
    },
    {
      "cell_type": "code",
      "source": [
        "# Now we have matching names between the Seurat object and the BCR VDJ contigs\n",
        "# One last problem is that we have too many cells to analyze in Google colab. 25 thousand is a lot, so we will sample down to 5 thousand to speed up our analyses.\n",
        "# We have to be careful to sample the same cells from the Seurat object and the contigs file.\n",
        "bcell_sample_ids = sample(colnames(bcells),5000,replace=F)\n",
        "bcells@meta.data$CellName = colnames(bcells)\n",
        "bcells = subset(bcells, subset = CellName %in% bcell_sample_ids)"
      ],
      "metadata": {
        "id": "WRIUwQJNnbhr"
      },
      "execution_count": null,
      "outputs": []
    },
    {
      "cell_type": "code",
      "source": [
        "# Sample the contig list to a the cells we sampled for the Seurat object\n",
        "contig.list[[1]] = contig.list[[1]][contig.list[[1]]$barcode %in% bcell_sample_ids,]\n",
        "dim(contig.list[[1]])"
      ],
      "metadata": {
        "id": "ULfEG2pItdxu"
      },
      "execution_count": null,
      "outputs": []
    },
    {
      "cell_type": "code",
      "source": [
        "# Finally we can run combineBCR to make cell annotations and call clones\n",
        "combined.BCR <- combineBCR(contig.list, samples = \"P1\", threshold = 0.85)"
      ],
      "metadata": {
        "id": "6dHSF1h_kKZU"
      },
      "execution_count": null,
      "outputs": []
    },
    {
      "cell_type": "code",
      "source": [
        "# We have to clean up these barcode names after the combineBCR funtion added \"P1_\" to each name\n",
        "combined.BCR$P1$barcode = sub(\"P1_\",\"\",combined.BCR$P1$barcode)"
      ],
      "metadata": {
        "id": "2drl6d0fkTy_"
      },
      "execution_count": null,
      "outputs": []
    },
    {
      "cell_type": "code",
      "source": [
        "# Now we can integrate the gene expression in the Seurat object with the BCR calls\n",
        "bcells = combineExpression(combined.BCR,bcells,cloneCall=\"gene\")"
      ],
      "metadata": {
        "id": "I8aaQERGkCMh"
      },
      "execution_count": null,
      "outputs": []
    },
    {
      "cell_type": "code",
      "source": [
        "# Check the object identities\n",
        "Idents(object = bcells) <- \"patient\"\n",
        "table(Idents(bcells))"
      ],
      "metadata": {
        "id": "WsCsFQnkXR1P"
      },
      "execution_count": null,
      "outputs": []
    },
    {
      "cell_type": "markdown",
      "source": [
        "From this point please continue to process the data if necessary and perform analysis to answer the questions described at the top of the notebook. Good luck!"
      ],
      "metadata": {
        "id": "MbP2OsCTv5r4"
      }
    }
  ]
}