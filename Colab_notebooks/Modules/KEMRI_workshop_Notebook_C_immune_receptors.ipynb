{
  "nbformat": 4,
  "nbformat_minor": 0,
  "metadata": {
    "colab": {
      "provenance": [],
      "toc_visible": true
    },
    "kernelspec": {
      "name": "ir",
      "display_name": "R"
    },
    "language_info": {
      "name": "R"
    }
  },
  "cells": [
    {
      "cell_type": "markdown",
      "source": [
        "This notebook is largely based on the scRepertoire tutorial (https://www.borch.dev/uploads/screpertoire/articles/loading) and uses scRepertoire to analyse immune cell receptor data.\n"
      ],
      "metadata": {
        "id": "E8bpz6NNg4JL"
      }
    },
    {
      "cell_type": "markdown",
      "source": [
        "# Install required packages"
      ],
      "metadata": {
        "id": "0Cs-3fFPl5pS"
      }
    },
    {
      "cell_type": "code",
      "source": [
        "## https://stackoverflow.com/questions/70025153/how-to-access-the-shell-in-google-colab-when-running-the-r-kernel\n",
        "shell_call <- function(command, ...) {\n",
        "  result <- system(command, intern = TRUE, ...)\n",
        "  cat(paste0(result, collapse = \"\\n\"))\n",
        "}\n",
        "\n",
        "loadPackages = function(pkgs){\n",
        "  myrequire = function(...){\n",
        "    suppressWarnings(suppressMessages(suppressPackageStartupMessages(require(...))))\n",
        "  }\n",
        "  ok = sapply(pkgs, require, character.only=TRUE, quietly=TRUE)\n",
        "  if (!all(ok)){\n",
        "    message(\"There are missing packages: \", paste(pkgs[!ok], collapse=\", \"))\n",
        "  }\n",
        "}\n",
        "\n",
        "## Setup R2U\n",
        "download.file(\"https://github.com/eddelbuettel/r2u/raw/master/inst/scripts/add_cranapt_jammy.sh\",\n",
        "              \"add_cranapt_jammy.sh\")\n",
        "Sys.chmod(\"add_cranapt_jammy.sh\", \"0755\")\n",
        "shell_call(\"./add_cranapt_jammy.sh\")\n",
        "bspm::enable()\n",
        "options(bspm.version.check=FALSE)\n",
        "shell_call(\"rm add_cranapt_jammy.sh\")"
      ],
      "metadata": {
        "id": "bQbwprISeROk"
      },
      "execution_count": null,
      "outputs": []
    },
    {
      "cell_type": "code",
      "source": [
        "## Install the R packages\n",
        "cranPkgs2Install = c(\"BiocManager\")\n",
        "install.packages(cranPkgs2Install, ask=FALSE, update=TRUE, quietly=TRUE)\n",
        "system(\"sudo apt install libgsl-dev\")\n",
        "BiocManager::install(\"scRepertoire\")\n",
        "install.packages('Seurat')\n",
        "BiocManager::install(\"scater\")"
      ],
      "metadata": {
        "id": "uM0Ad69Fd_O2"
      },
      "execution_count": null,
      "outputs": []
    },
    {
      "cell_type": "code",
      "source": [
        "## To simplify package loading, we created the loadPackages()\n",
        "## function. But, if you don't have the function, you should\n",
        "## use 'library(name_of_package)'\n",
        "loadPackages = function(pkgs){\n",
        "  myrequire = function(...){\n",
        "    suppressWarnings(suppressMessages(suppressPackageStartupMessages(require(...))))\n",
        "  }\n",
        "  ok = sapply(pkgs, require, character.only=TRUE, quietly=TRUE)\n",
        "  if (!all(ok)){\n",
        "    message(\"There are missing packages: \", paste(pkgs[!ok], collapse=\", \"))\n",
        "  }\n",
        "}\n",
        "\n",
        "pkgs = c(\"Seurat\", \"tidyverse\", \"scRepertoire\", \"scater\")\n",
        "loadPackages(pkgs)"
      ],
      "metadata": {
        "id": "ilDB9QTaKOJ8"
      },
      "execution_count": null,
      "outputs": []
    },
    {
      "cell_type": "code",
      "source": [
        "# Download this file to your computer:\n",
        "# https://drive.usercontent.google.com/download?id=1_YuRraDyg8UgF3oasjF0-jgPnwox-B24&export=download&authuser=0\"\n",
        "# and then open the folder icon on the left and drag the file there.\n",
        "# It will appear on the bottom left (\"scRep_example_full.rds\") with a circle next to it\n",
        "# that indicates upload progress. The full upload will take a few minutes, wait until it is complete."
      ],
      "metadata": {
        "id": "D56SpXrQHqVC"
      },
      "execution_count": null,
      "outputs": []
    },
    {
      "cell_type": "markdown",
      "source": [
        "# Introduction\n",
        "\n",
        "<img src=\"https://camo.githubusercontent.com/f37d3bd3ae082e6e4c9765361d3bf44a4912f909bd701782753484ea4dd1c12e/68747470733a2f2f7777772e626f7263682e6465762f75706c6f6164732f73637265706572746f6972652f7265666572656e63652f666967757265732f73637265706572746f6972655f6865782e706e67\" alt=\"drawing\" width=\"200\"/>\n",
        "\n",
        "Single-cell sequencing is an emerging technology in the field of immunology and oncology that allows researchers to couple RNA quantification and other modalities, like immune cell receptor profiling at the level of an individual cell. A number of workflows and software packages have been created to process and analyze single-cell transcriptomic data. These packages allow users to take the vast dimensionality of the data generated in single-cell-based experiments and distill the data into novel insights. Unlike the transcriptomic field, there is a lack of options for software that allow for single-cell immune receptor profiling. Enabling users to easily combine RNA and immune profiling, the [scRepertoire](https://www.borch.dev/uploads/screpertoire/) framework supports use of 10x, AIRR, BD, MiXCR, Omniscope, TRUST4, and WAT3R single-cell clonal formats and interaction with popular R-based single-cell data pipelines.\n",
        "\n",
        "Our tutorial below was adapted from the scRepertoire vignettes.\n"
      ],
      "metadata": {
        "id": "7CLlPiV5eh9h"
      }
    },
    {
      "cell_type": "markdown",
      "source": [
        "# What data to load into scRepertoire?\n",
        "scRepertoire functions using the filtered_contig_annotations.csv output from the 10x Genomics Cell Ranger. This file is located in the ./outs/ directory of the VDJ alignment folder. To generate a list of contigs to use for scRepertoire:\n",
        "\n",
        "load the filtered_contig_annotations.csv for each of the samples.\n",
        "make a list in the R environment.\n",
        "\n",
        "\n",
        "```\n",
        "\n",
        "S1 <- read.csv(\".../Sample1/outs/filtered_contig_annotations.csv\")\n",
        "S2 <- read.csv(\".../Sample2/outs/filtered_contig_annotations.csv\")\n",
        "S3 <- read.csv(\".../Sample3/outs/filtered_contig_annotations.csv\")\n",
        "S4 <- read.csv(\".../Sample4/outs/filtered_contig_annotations.csv\")\n",
        "\n",
        "contig_list <- list(S1, S2, S3, S4)\n",
        "\n",
        "\n",
        "```\n",
        "\n",
        "## Other alignment workflows\n",
        "Beyond the default 10x Genomic Cell Ranger pipeline outputs, scRepertoire supports the following single-cell formats:\n",
        "\n",
        "AIRR\n",
        "BD Rhapsody Multiomic Immune Profiling\n",
        "Immcantation\n",
        "JSON-formatted contig data\n",
        "MiXCR\n",
        "Omniscope OS-T/OS-B\n",
        "Parse Evercode TCR/BCR\n",
        "TRUST4\n",
        "WAT3R\n",
        "loadContigs() can be given a directory where the sequencing experiments are located and it will recursively load and process the contig data based on the file names. Alternatively, loadContigs() can be given a list of data frames and process the contig data\n",
        "\n",
        "\n",
        "\n",
        "```\n",
        "#Directory example\n",
        "contig.output <- c(\"~/Documents/MyExperiment\")\n",
        "contig.list <- loadContigs(input = contig.output,\n",
        "                           format = \"TRUST4\")\n",
        "\n",
        "#List of data frames example\n",
        "S1 <- read.csv(\"~/Documents/MyExperiment/Sample1/outs/barcode_results.csv\")\n",
        "S2 <- read.csv(\"~/Documents/MyExperiment/Sample2/outs/barcode_results.csv\")\n",
        "S3 <- read.csv(\"~/Documents/MyExperiment/Sample3/outs/barcode_results.csv\")\n",
        "S4 <- read.csv(\"~/Documents/MyExperiment/Sample4/outs/barcode_results.csv\")\n",
        "\n",
        "contig_list <- list(S1, S2, S3, S4)\n",
        "contig.list <- loadContigs(input = contig.output,\n",
        "                           format = \"WAT3R\")\n",
        "```\n",
        "\n"
      ],
      "metadata": {
        "id": "WslKOmsPMj4O"
      }
    },
    {
      "cell_type": "markdown",
      "source": [
        "# Example TCR Data in scRepertoire\n",
        "\n",
        "scRepertoire comes with a data set from T cells derived from four patients with acute respiratory distress to demonstrate the functionality of the R package. More information on the data set can be found in the corresponding manuscript. The samples consist of paired peripheral-blood (B) and bronchoalveolar lavage (L), effectively creating 8 distinct runs for T cell receptor (TCR) enrichment. We can preview the elements in the list by using the head function and looking at the first contig annotation.\n",
        "\n",
        "The built-in example data is derived from the 10x Cell Ranger pipeline, so it is ready to go for downstream processing and analysis."
      ],
      "metadata": {
        "id": "Z-dhUVqZMNUu"
      }
    },
    {
      "cell_type": "markdown",
      "source": [
        "Check that the uploaded file is in the correct folder and appears here. Note: it will already appear during upload, but you have to wait for upload to complete to then load it."
      ],
      "metadata": {
        "id": "TSY62q2qd_2v"
      }
    },
    {
      "cell_type": "code",
      "source": [
        "list.files(path = \".\")"
      ],
      "metadata": {
        "id": "_fqysDqBGjXB"
      },
      "execution_count": null,
      "outputs": []
    },
    {
      "cell_type": "code",
      "source": [
        " scRep_example <- readRDS(\"scRep_example_full.rds\")"
      ],
      "metadata": {
        "id": "F2EaPIRlcqBJ"
      },
      "execution_count": null,
      "outputs": []
    },
    {
      "cell_type": "code",
      "source": [
        "scRep_example"
      ],
      "metadata": {
        "id": "wxUgjqsneNv4"
      },
      "execution_count": null,
      "outputs": []
    },
    {
      "cell_type": "markdown",
      "source": [
        "# Combining Contigs into Clones\n",
        "There are varying definitions of clones or clones in the literature. For the purposes of scRepertoire, we will use clone and define this as the cells with shared/trackable complementarity-determining region 3 (CDR3) sequences. Within this definition, one might use amino acid (aa) sequences of one or both chains to define a clone. Alternatively, we could use nucleotide (nt) or the V(D)JC genes (genes) to define a clone. The latter genes would be a more permissive definition of “clones”, as multiple amino acid or nucleotide sequences can result from the same gene combination. Another option to define clone is the use of the V(D)JC and nucleotide sequence (strict). scRepertoire allows for the use of all these definitions of clones and allows for users to select both or individual chains to examine."
      ],
      "metadata": {
        "id": "UCbpyvz7NKeE"
      }
    },
    {
      "cell_type": "markdown",
      "source": [
        "## combineTCR\n",
        "The output of combineTCR() will be a list of contig data frames that will be reduced to the reads associated with a single cell barcode. It will also combine the multiple reads into clone calls by either the nucleotide sequence (CTnt), amino acid sequence (CTaa), the VDJC gene sequence (CTgene), or the combination of the nucleotide and gene sequence (CTstrict).\n",
        "\n"
      ],
      "metadata": {
        "id": "H-iW1uNJNk-7"
      }
    },
    {
      "cell_type": "code",
      "source": [
        "combined.TCR <- combineTCR(contig_list,\n",
        "                           samples = c(\"P17B\", \"P17L\", \"P18B\", \"P18L\",\n",
        "                            \"P19B\",\"P19L\", \"P20B\", \"P20L\"),\n",
        "                           removeNA = FALSE,\n",
        "                           removeMulti = FALSE,\n",
        "                           filterMulti = FALSE)\n",
        "\n",
        "head(combined.TCR[[1]])"
      ],
      "metadata": {
        "id": "EUkmuJy4Nj_5"
      },
      "execution_count": null,
      "outputs": []
    },
    {
      "cell_type": "code",
      "source": [
        "tail(combined.TCR[[1]])"
      ],
      "metadata": {
        "id": "OAggz1pge_Co"
      },
      "execution_count": null,
      "outputs": []
    },
    {
      "cell_type": "markdown",
      "source": [
        "## combineBCR\n",
        "combineBCR() is analogous to combineTCR() with 2 major changes:\n",
        "\n",
        "\n",
        "1.  Each barcode can only have a maximum of 2 sequences, if greater exists, the 2 with the highest reads are selected;\n",
        "2.  The strict definition of a clone is based on the normalized Levenshtein edit distance of CDR3 nucleotide sequences and V-gene usage. For more information on this approach, please see the respective citation. This definition allows for the grouping of BCRs derived from the same progenitor that have undergone mutation as part of somatic hypermutation and affinity\n",
        "maturation.\n"
      ],
      "metadata": {
        "id": "iQmtueojN48V"
      }
    },
    {
      "cell_type": "code",
      "source": [
        "BCR.contigs <- read.csv(\"https://www.borch.dev/uploads/contigs/b_contigs.csv\")\n",
        "combined.BCR <- combineBCR(BCR.contigs,\n",
        "                           samples = \"P1\",\n",
        "                           threshold = 0.85) #the level of similarity in sequences to group together. Default is 0.85.\n",
        "\n",
        "head(combined.BCR[[1]])"
      ],
      "metadata": {
        "id": "yfvNZDX5NupP"
      },
      "execution_count": null,
      "outputs": []
    },
    {
      "cell_type": "code",
      "source": [
        "tail(combined.BCR[[1]])"
      ],
      "metadata": {
        "id": "_Heu8DiqDr_G"
      },
      "execution_count": null,
      "outputs": []
    },
    {
      "cell_type": "markdown",
      "source": [
        "# (optional) subsetClones\n",
        "Likewise, we can remove specific list elements after combineTCR() using the subsetClones() function. In order to subset, we need to identify the vector we would like to use for subsetting (name) and the variable values to subset (variables). Below, we isolate just the 2 sequencing results from P18L and P18B."
      ],
      "metadata": {
        "id": "ucJj9TEqO7T1"
      }
    },
    {
      "cell_type": "code",
      "source": [
        "subset1 <- subsetClones(combined.BCR,\n",
        "                        name = \"sample\",\n",
        "                        variables = c(\"P1\"))\n",
        "\n",
        "head(subset1[[1]])"
      ],
      "metadata": {
        "id": "iaWrRaXSOMol"
      },
      "execution_count": null,
      "outputs": []
    },
    {
      "cell_type": "markdown",
      "source": [
        "# clonalQuant\n",
        "\n",
        "The first function to explore the clones is clonalQuant() to return the total or relative numbers of unique clones.\n",
        "\n",
        "**scale**\n",
        "\n",
        "\n",
        "*   TRUE - relative percent of unique clones scaled by the total size of the clonal repertoire.\n",
        "*   FALSE - Report the total number of unique clones (default).\n",
        "\n",
        "**chain**\n",
        "\n",
        "\n",
        "*   “both” for combined chain visualization\n",
        "*   “TRA”, “TRB”, “TRD”, “TRG”, “IGH” or “IGL” to select single chain\n"
      ],
      "metadata": {
        "id": "AqpuZbcNPZ1C"
      }
    },
    {
      "cell_type": "code",
      "source": [
        "clonalQuant(combined.TCR,\n",
        "            cloneCall=\"strict\",\n",
        "            chain = \"both\",\n",
        "            scale = TRUE)\n"
      ],
      "metadata": {
        "id": "eqzoQKWUPlVV"
      },
      "execution_count": null,
      "outputs": []
    },
    {
      "cell_type": "code",
      "source": [
        "clonalQuant(combined.BCR,\n",
        "            cloneCall=\"strict\",\n",
        "            chain = \"both\",\n",
        "            scale = TRUE)\n"
      ],
      "metadata": {
        "id": "BOXJTJRzfHiL"
      },
      "execution_count": null,
      "outputs": []
    },
    {
      "cell_type": "markdown",
      "source": [
        "Another option here is to be able to define the visualization by data classes. Here, we used the combineTCR() list to define the Type variable as part of the naming structure. We can use the group.by to specifically use a column in the data set to organize the visualization.\n",
        "\n"
      ],
      "metadata": {
        "id": "XypPTWDMQtgp"
      }
    },
    {
      "cell_type": "code",
      "source": [
        "#add the Type in which the samples were processed and sequenced.\n",
        "combined.TCR <- addVariable(combined.TCR,\n",
        "                            variable.name = \"Type\",\n",
        "                            variables = rep(c(\"B\", \"L\"), 4))\n",
        "\n",
        "clonalQuant(combined.TCR, cloneCall = \"gene\", group.by = \"Type\", scale = TRUE)"
      ],
      "metadata": {
        "id": "3-EJyG0iQ2XZ"
      },
      "execution_count": null,
      "outputs": []
    },
    {
      "cell_type": "markdown",
      "source": [
        "# clonalLength\n",
        "We can look at the length distribution of the CDR3 sequences by calling the lengtheContig() function. Importantly, unlike the other basic visualizations, the cloneCall can only be “nt” or “aa”. Due to the method of calling clones as outlined above, the length should reveal a multimodal curve, this is a product of using the NA for the unreturned chain sequence and multiple chains within a single barcode.\n",
        "\n",
        "**chain**\n",
        "\n",
        "\n",
        "*   “both” for combined chain visualization\n",
        "*   “TRA”, “TRB”, “TRD”, “TRG”, “IGH” or “IGL” to select single chain\n",
        "\n",
        "\n",
        "\n",
        "\n"
      ],
      "metadata": {
        "id": "nXHjwPxxRQq8"
      }
    },
    {
      "cell_type": "code",
      "source": [
        "clonalLength(combined.TCR,\n",
        "             cloneCall=\"aa\",\n",
        "             chain = \"both\")"
      ],
      "metadata": {
        "id": "Mhzzp_ZIRXz6"
      },
      "execution_count": null,
      "outputs": []
    },
    {
      "cell_type": "code",
      "source": [
        "clonalLength(combined.TCR,\n",
        "             cloneCall=\"aa\",\n",
        "             chain = \"TRA\",\n",
        "             scale = TRUE)\n"
      ],
      "metadata": {
        "id": "2ZuVGCtURb-j"
      },
      "execution_count": null,
      "outputs": []
    },
    {
      "cell_type": "markdown",
      "source": [
        "# clonalCompare\n",
        "We can also look at clones between samples and changes in dynamics by using the clonalCompare() function."
      ],
      "metadata": {
        "id": "7POf1m15RfZ2"
      }
    },
    {
      "cell_type": "code",
      "source": [
        "clonalCompare(combined.TCR,\n",
        "                  top.clones = 10,\n",
        "                  samples = c(\"P17B\", \"P17L\"),\n",
        "                  cloneCall=\"aa\",\n",
        "                  graph = \"alluvial\")"
      ],
      "metadata": {
        "id": "iv7VL8qFRi_M"
      },
      "execution_count": null,
      "outputs": []
    },
    {
      "cell_type": "markdown",
      "source": [
        "We can also choose to highlight specific clones"
      ],
      "metadata": {
        "id": "NbEEIj5_R2U0"
      }
    },
    {
      "cell_type": "code",
      "source": [
        "clonalCompare(combined.TCR,\n",
        "              top.clones = 10,\n",
        "              highlight.clones = c(\"CVVSDNTGGFKTIF_CASSVRRERANTGELFF\", \"NA_CASSVRRERANTGELFF\"),\n",
        "              relabel.clones = TRUE,\n",
        "              samples = c(\"P17B\", \"P17L\"),\n",
        "              cloneCall=\"aa\",\n",
        "              graph = \"alluvial\")"
      ],
      "metadata": {
        "id": "qxvUhrIqRxzg"
      },
      "execution_count": null,
      "outputs": []
    },
    {
      "cell_type": "code",
      "source": [
        "# show only specific clones\n",
        "clonalCompare(combined.TCR, clones = c(\"CVVSDNTGGFKTIF_CASSVRRERANTGELFF\", \"NA_CASSVRRERANTGELFF\"),\n",
        "    relabel.clones = TRUE, samples = c(\"P17B\", \"P17L\"), cloneCall = \"aa\", graph = \"alluvial\")"
      ],
      "metadata": {
        "id": "BNa3QtYqR4Sw"
      },
      "execution_count": null,
      "outputs": []
    },
    {
      "cell_type": "markdown",
      "source": [
        "# Visualizing Clonal Dynamics\n",
        "## clonalHomeostasis\n",
        "By examining the clonal space, we effectively look at the relative space occupied by clones at specific proportions. Another way to think about this would be to think of the total immune receptor sequencing run as a measuring cup. In this cup, we will fill liquids of different viscosity - or different numbers of clonal proportions. Clonal space homeostasis asks what percentage of the cup is filled by clones in distinct proportions (or liquids of different viscosity, to extend the analogy). The proportional cut points are set under the cloneSize variable in the function and can be adjusted."
      ],
      "metadata": {
        "id": "ZylutihnSTQw"
      }
    },
    {
      "cell_type": "code",
      "source": [
        "clonalHomeostasis(combined.TCR,\n",
        "                  cloneCall = \"gene\",\n",
        "                  cloneSize = c(Rare = 0.001, Small = 0.01, Medium = 0.1, Large = 0.3, Hyperexpanded =\n",
        "    1))"
      ],
      "metadata": {
        "id": "H7XJ3UgEStgL"
      },
      "execution_count": null,
      "outputs": []
    },
    {
      "cell_type": "code",
      "source": [
        "clonalHomeostasis(combined.BCR,\n",
        "                  cloneCall = \"gene\",\n",
        "                  cloneSize = c(Rare = 0.001, Small = 0.01, Medium = 0.1, Large = 0.3, Hyperexpanded =\n",
        "    1))"
      ],
      "metadata": {
        "id": "hzC8JzT8geC6"
      },
      "execution_count": null,
      "outputs": []
    },
    {
      "cell_type": "markdown",
      "source": [
        "# clonalProportion\n",
        "Like clonal space homeostasis above, clonal proportion places clones into separate bins. The key difference is that instead of looking at the relative proportion of the clone to the total, the clonalProportion() function will rank the clones by total number and place them into bins.\n",
        "\n",
        "The clonalSplit represents the ranking of clonotypes by copy or frequency of occurrence, meaning 1:10 are the top 10 clonotypes in each sample. The default bins are under the clonalSplit variable in the function and can be adjusted, but they are as follows at baseline.\n",
        "\n",
        "**clonalSplit**\n",
        "\n",
        "*   10\n",
        "*   100\n",
        "*   1000\n",
        "*   10000\n",
        "*   30000\n",
        "*   100000\n"
      ],
      "metadata": {
        "id": "wnPk1Dg3TXsa"
      }
    },
    {
      "cell_type": "code",
      "source": [
        "clonalProportion(combined.TCR,\n",
        "                 cloneCall = \"gene\")"
      ],
      "metadata": {
        "id": "_CYbUaUVTnMG"
      },
      "execution_count": null,
      "outputs": []
    },
    {
      "cell_type": "code",
      "source": [
        "clonalProportion(combined.BCR,\n",
        "                 cloneCall = \"gene\")"
      ],
      "metadata": {
        "id": "Ip7QeTbBghr2"
      },
      "execution_count": null,
      "outputs": []
    },
    {
      "cell_type": "code",
      "source": [
        "clonalProportion(combined.TCR,\n",
        "                 cloneCall = \"nt\",\n",
        "                 clonalSplit = c(1, 5, 10, 100, 1000, 10000))"
      ],
      "metadata": {
        "id": "9lwOxf_zTr6g"
      },
      "execution_count": null,
      "outputs": []
    },
    {
      "cell_type": "code",
      "source": [
        "clonalProportion(combined.BCR,\n",
        "                 cloneCall = \"nt\",\n",
        "                 clonalSplit = c(1, 5, 10, 100, 1000, 10000))"
      ],
      "metadata": {
        "id": "bwfVoVM7gjte"
      },
      "execution_count": null,
      "outputs": []
    },
    {
      "cell_type": "markdown",
      "source": [
        "# Summarizing Repertoires\n",
        "## percentAA\n",
        "Quantify the proportion of amino acids along the cdr3 sequence with percentAA(). By default, the function will pad the sequences with NAs up to the maximum of aa.length. Sequences longer than aa.length will be removed before visualization (default aa.length = 20).\n",
        "\n"
      ],
      "metadata": {
        "id": "0K8S2shoT97l"
      }
    },
    {
      "cell_type": "code",
      "source": [
        "percentAA(combined.TCR,\n",
        "          chain = \"TRB\",\n",
        "          aa.length = 20)"
      ],
      "metadata": {
        "id": "wQhp0ubBULzf"
      },
      "execution_count": null,
      "outputs": []
    },
    {
      "cell_type": "markdown",
      "source": [
        "##positionalEntropy\n",
        "We can also quantify the level of entropy/diversity across amino acid residues along the cdr3 sequence. positionalEntropy() combines the quantification by residue of percentAA() with the diversity calls in clonalDiversity().\n",
        "\n",
        "**method**:\n",
        "\n",
        "“shannon” - Shannon Diversity; “inv.simpson” - Inverse Simpson Diversity;\n",
        "“norm.entropy” - Normalized Entropy\n"
      ],
      "metadata": {
        "id": "PYsPTCvGUErY"
      }
    },
    {
      "cell_type": "code",
      "source": [
        "positionalEntropy(combined.TCR,\n",
        "                  chain = \"TRB\",\n",
        "                  aa.length = 20)"
      ],
      "metadata": {
        "id": "yDcIoFGdULFh"
      },
      "execution_count": null,
      "outputs": []
    },
    {
      "cell_type": "code",
      "source": [
        "positionalEntropy(combined.BCR,\n",
        "                  chain = \"both\",\n",
        "                  aa.length = 20)"
      ],
      "metadata": {
        "id": "iV-2_aglgujj"
      },
      "execution_count": null,
      "outputs": []
    },
    {
      "cell_type": "markdown",
      "source": [
        "## vizGenes\n",
        "A visualization of the relative usage of genes of the TCR or BCR, using vizGenes(). vizGenes() is more adaptable to allow for comparisons across chains, scaling, etc, compared to other methods in the package like percentGenes() and percentVJ()"
      ],
      "metadata": {
        "id": "_Jf4mvchUpMq"
      }
    },
    {
      "cell_type": "code",
      "source": [
        "vizGenes(combined.TCR,\n",
        "         x.axis = \"TRBV\",\n",
        "         y.axis = NULL,\n",
        "         plot = \"barplot\",\n",
        "         scale = TRUE)"
      ],
      "metadata": {
        "id": "6OMu3I7yUw0R"
      },
      "execution_count": null,
      "outputs": []
    },
    {
      "cell_type": "markdown",
      "source": [
        "#Comparing Clonal Diversity and Overlap\n"
      ],
      "metadata": {
        "id": "06YrrKHyVZWK"
      }
    },
    {
      "cell_type": "markdown",
      "source": [
        "## ClonalDiversity\n",
        "Diversity can also be measured for samples or by other variables. Diversity metrics calculated, include: “shannon”, “inv.simpson”, “norm.entropy”, “gini.simpson”, “chao1”, and “ACE”. Please see the manual for more information on each metric and the underlying calculations.\n",
        "\n",
        "Inherent in diversity calculations is a bias for increasing diversity with increasing repertoire size. clonalDiversity() will automatically downsample to the smallest repertoire size and perform bootstrapping to return the mean diversity estimates. If the output of diversity values are strange or minimally variable, it is likely due to a sample with small repertoire size."
      ],
      "metadata": {
        "id": "TgrHq8P9Ve06"
      }
    },
    {
      "cell_type": "code",
      "source": [
        "clonalDiversity(combined.TCR,\n",
        "                cloneCall = \"gene\")\n",
        "#As a default, clonalDiversity() will return all the metrics calculated - “shannon”,\n",
        "#“inv.simpson”, “norm.entropy”, “gini.simpson”, “chao1”, and “ACE”. Selecting a single or a subset of these methods using the metrics parameter.\n",
        "# e.g. add 'metrics = c(\"shannon\", \"ACE\")',"
      ],
      "metadata": {
        "id": "lIJSxZloVaAg"
      },
      "execution_count": null,
      "outputs": []
    },
    {
      "cell_type": "code",
      "source": [
        "clonalDiversity(combined.BCR,\n",
        "                cloneCall = \"gene\")"
      ],
      "metadata": {
        "id": "j6XPIrfYhIb9"
      },
      "execution_count": null,
      "outputs": []
    },
    {
      "cell_type": "markdown",
      "source": [
        "(optional) you can add patient information and group by patient instead"
      ],
      "metadata": {
        "id": "PdyeM6RwVtPn"
      }
    },
    {
      "cell_type": "code",
      "source": [
        "combined.TCR <- addVariable(\n",
        "  combined.TCR,\n",
        "  variable.name = \"Patient\",\n",
        "  variables = c(\"P17\", \"P17\", \"P18\", \"P18\", \"P19\",\"P19\", \"P20\", \"P20\"))\n",
        "\n",
        "clonalDiversity(combined.TCR,\n",
        "                cloneCall = \"gene\",\n",
        "                group.by = \"Patient\")"
      ],
      "metadata": {
        "id": "sRj7zJBzVrRZ"
      },
      "execution_count": null,
      "outputs": []
    },
    {
      "cell_type": "markdown",
      "source": [
        "## clonalOverlap\n",
        "If you are interested in measures of similarity between the samples loaded into scRepertoire, using clonalOverlap() can assist in the visualization.\n",
        "\n",
        "The underlying clonalOverlap() calculation varies by the method parameter, more information on the exact calculations are available in the manual.\n",
        "**method**:\n",
        "\n",
        "\n",
        "*   “overlap” - overlap coefficient\n",
        "*   “morisita” - Morisita’s overlap index\n",
        "*   “jaccard” - Jaccard index\n",
        "*   “cosine” - cosine similarity\n",
        "*   “raw” - exact number of overlapping clones\n",
        "\n"
      ],
      "metadata": {
        "id": "hI8CfpUTWGLC"
      }
    },
    {
      "cell_type": "code",
      "source": [
        "clonalOverlap(combined.TCR,\n",
        "              cloneCall = \"strict\",\n",
        "              method = \"morisita\")"
      ],
      "metadata": {
        "id": "jHjviUqrWHGE"
      },
      "execution_count": null,
      "outputs": []
    },
    {
      "cell_type": "markdown",
      "source": [
        "Leave cluster by edit distance for now:\n",
        "https://www.borch.dev/uploads/screpertoire/articles/clonal_cluster"
      ],
      "metadata": {
        "id": "u_F-54vTWo8E"
      }
    },
    {
      "cell_type": "markdown",
      "source": [
        "#Combining Clones and Single-Cell Objects\n"
      ],
      "metadata": {
        "id": "dkahxNblWx0J"
      }
    },
    {
      "cell_type": "markdown",
      "source": [
        "## combineExpression and calculating cloneSize\n",
        "After processing the contig data into clones via combineBCR() or combineTCR(), we can add the clonal information to the single-cell object using combineExpression().\n",
        "\n",
        "Part of combineExpression() is calculating the clonal frequency and proportion, placing each clone into groups called cloneSize. The default cloneSize argument uses the following bins: c(Rare = 1e-4, Small = 0.001, Medium = 0.01, Large = 0.1, Hyperexpanded = 1), which can be modified to include more/less bins or different names.\n",
        "\n",
        "Clonal frequency and proportion is dependent on the repertoires being compared, which we can modify the calculation using the group.by parameter, such as grouping by the Patient variable from above. If group.by is not set, combineExpression() will calculate clonal frequency, proportion, and cloneSize as a function of individual sequencing runs. In addition, cloneSize can use the frequency of clones when proportion = FALSE."
      ],
      "metadata": {
        "id": "qKoWmIv2XkIr"
      }
    },
    {
      "cell_type": "code",
      "source": [
        "#Making a Single-Cell Experiment object\n",
        "sce <- Seurat::as.SingleCellExperiment(scRep_example)\n",
        "\n",
        "sce <- combineExpression(combined.TCR,\n",
        "                         sce,\n",
        "                         cloneCall=\"gene\",\n",
        "                         group.by = \"sample\",\n",
        "                         proportion = TRUE)\n",
        "\n",
        "#Define color palette\n",
        "colorblind_vector <- hcl.colors(n=7, palette = \"inferno\", fixup = TRUE)\n",
        "\n",
        "# Visualize UMAP colored by default cloneSize groupings\n",
        "scater::plotUMAP(sce, colour_by = \"cloneSize\") +\n",
        "    scale_color_manual(values=rev(colorblind_vector[c(1,3,5,7)]))"
      ],
      "metadata": {
        "id": "BIfSOhP2WsEO"
      },
      "execution_count": null,
      "outputs": []
    },
    {
      "cell_type": "markdown",
      "source": [
        "Alternatively, if we want cloneSize to be based on the frequency of the clone, we can set proportion = FALSE and we will need to change the cloneSize bins to integers. If we have not inspected our clone data, setting the upper limit of the clonal frequency might be difficult - combineExpression() will automatically adjust the upper limit to fit the distribution of the frequencies. To demonstrate this, check out the Seurat object below:"
      ],
      "metadata": {
        "id": "iDUhy1PEYQZH"
      }
    },
    {
      "cell_type": "code",
      "source": [
        "scRep_example <- combineExpression(combined.TCR,\n",
        "                                   scRep_example,\n",
        "                                   cloneCall=\"gene\",\n",
        "                                   group.by = \"sample\",\n",
        "                                   proportion = FALSE,\n",
        "                                   cloneSize=c(Single=1, Small=5, Medium=20, Large=100, Hyperexpanded=500))\n",
        "\n",
        "Seurat::DimPlot(scRep_example, group.by = \"cloneSize\") +\n",
        "    scale_color_manual(values=rev(colorblind_vector[c(1,3,4,5,7)]))"
      ],
      "metadata": {
        "id": "mz1MKfIJYLP3"
      },
      "execution_count": null,
      "outputs": []
    },
    {
      "cell_type": "markdown",
      "source": [
        "## clonalOccupy\n",
        "We can also look at the count of cells by cluster assigned into specific frequency ranges by using the clonalOccupy() function and selecting the x.axis to display cluster or other variables in the meta data of the single cell object."
      ],
      "metadata": {
        "id": "8QVRSORDYbNb"
      }
    },
    {
      "cell_type": "code",
      "source": [
        "clonalOccupy(scRep_example,\n",
        "             x.axis = \"seurat_clusters\",\n",
        "             proportion = FALSE, #change to TRUE to look at proportions!\n",
        "             label = TRUE) #change to FALSE to not label the bars"
      ],
      "metadata": {
        "id": "WnCzDhVGYapz"
      },
      "execution_count": null,
      "outputs": []
    },
    {
      "cell_type": "markdown",
      "source": [
        "**Optional but feel free to explore more visualization on single cell data in here https://www.borch.dev/uploads/screpertoire/articles/sc_visualizations**"
      ],
      "metadata": {
        "id": "XhdzO6vmZJk4"
      }
    }
  ]
}